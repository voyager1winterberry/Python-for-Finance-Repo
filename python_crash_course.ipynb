{
 "cells": [
  {
   "cell_type": "code",
   "execution_count": 5,
   "id": "5c18467f-e6f4-43c5-8563-24af61d5965d",
   "metadata": {},
   "outputs": [],
   "source": [
    "# comment\n",
    "# 10"
   ]
  },
  {
   "cell_type": "code",
   "execution_count": 6,
   "id": "c3cd6572-779c-48d7-9bfd-9605acd9bc2b",
   "metadata": {},
   "outputs": [
    {
     "data": {
      "text/plain": [
       "2"
      ]
     },
     "execution_count": 6,
     "metadata": {},
     "output_type": "execute_result"
    }
   ],
   "source": [
    "1+1"
   ]
  },
  {
   "cell_type": "code",
   "execution_count": 7,
   "id": "4c0c992c-93ec-4277-852b-416d908b505e",
   "metadata": {},
   "outputs": [
    {
     "data": {
      "text/plain": [
       "-2"
      ]
     },
     "execution_count": 7,
     "metadata": {},
     "output_type": "execute_result"
    }
   ],
   "source": [
    "1-3"
   ]
  },
  {
   "cell_type": "code",
   "execution_count": 8,
   "id": "ee0281bb-2403-4286-b11f-a37f170bf0f5",
   "metadata": {},
   "outputs": [
    {
     "data": {
      "text/plain": [
       "0.5"
      ]
     },
     "execution_count": 8,
     "metadata": {},
     "output_type": "execute_result"
    }
   ],
   "source": [
    "1/2"
   ]
  },
  {
   "cell_type": "code",
   "execution_count": 9,
   "id": "16f3d923-2751-4bd1-8c0d-ac3843411b07",
   "metadata": {},
   "outputs": [
    {
     "data": {
      "text/plain": [
       "16"
      ]
     },
     "execution_count": 9,
     "metadata": {},
     "output_type": "execute_result"
    }
   ],
   "source": [
    "2**4"
   ]
  },
  {
   "cell_type": "code",
   "execution_count": 10,
   "id": "08dce741-0cc7-49fc-b2bc-1d961b8bd71e",
   "metadata": {},
   "outputs": [
    {
     "data": {
      "text/plain": [
       "0"
      ]
     },
     "execution_count": 10,
     "metadata": {},
     "output_type": "execute_result"
    }
   ],
   "source": [
    "4%2"
   ]
  },
  {
   "cell_type": "code",
   "execution_count": 11,
   "id": "61b9034d-a5ac-4e44-8e1d-b6ff13735e6a",
   "metadata": {},
   "outputs": [
    {
     "data": {
      "text/plain": [
       "2.5"
      ]
     },
     "execution_count": 11,
     "metadata": {},
     "output_type": "execute_result"
    }
   ],
   "source": [
    "5/2"
   ]
  },
  {
   "cell_type": "code",
   "execution_count": 12,
   "id": "441963aa-2652-4717-bd03-442490a6966c",
   "metadata": {},
   "outputs": [
    {
     "data": {
      "text/plain": [
       "1"
      ]
     },
     "execution_count": 12,
     "metadata": {},
     "output_type": "execute_result"
    }
   ],
   "source": [
    "5%2\n"
   ]
  },
  {
   "cell_type": "code",
   "execution_count": 13,
   "id": "8e7588e3-3a79-4710-ad06-03bfd1e79fea",
   "metadata": {},
   "outputs": [
    {
     "data": {
      "text/plain": [
       "22"
      ]
     },
     "execution_count": 13,
     "metadata": {},
     "output_type": "execute_result"
    }
   ],
   "source": [
    "2+3 * 5+5\n"
   ]
  },
  {
   "cell_type": "code",
   "execution_count": 14,
   "id": "7f69e8eb-1c3a-4497-bff5-a75aff348321",
   "metadata": {},
   "outputs": [
    {
     "data": {
      "text/plain": [
       "50"
      ]
     },
     "execution_count": 14,
     "metadata": {},
     "output_type": "execute_result"
    }
   ],
   "source": [
    "(2+3) * (5+5)"
   ]
  },
  {
   "cell_type": "code",
   "execution_count": 63,
   "id": "bce05e87-4920-4473-96e3-d4a4ff301de2",
   "metadata": {},
   "outputs": [],
   "source": [
    "import math"
   ]
  },
  {
   "cell_type": "code",
   "execution_count": 64,
   "id": "ec73abea-8b23-4a62-8c0b-b118653617f4",
   "metadata": {},
   "outputs": [
    {
     "data": {
      "text/plain": [
       "3.1622776601683795"
      ]
     },
     "execution_count": 64,
     "metadata": {},
     "output_type": "execute_result"
    }
   ],
   "source": [
    "math.sqrt(10)"
   ]
  },
  {
   "cell_type": "code",
   "execution_count": 15,
   "id": "be202a2f-035a-49c0-b79e-6cfd4aac87ee",
   "metadata": {},
   "outputs": [],
   "source": [
    "name_of_var = 2"
   ]
  },
  {
   "cell_type": "code",
   "execution_count": 16,
   "id": "ea215c4e-8b27-41d6-a852-bf2d6b295154",
   "metadata": {},
   "outputs": [],
   "source": [
    "x = 1"
   ]
  },
  {
   "cell_type": "code",
   "execution_count": 17,
   "id": "0556d7b5-aee2-42ba-a721-ccd2e48c7fea",
   "metadata": {},
   "outputs": [],
   "source": [
    "y = 2\n"
   ]
  },
  {
   "cell_type": "code",
   "execution_count": 18,
   "id": "7a72bc04-2625-49e9-96b4-f25b2c079a5d",
   "metadata": {},
   "outputs": [
    {
     "data": {
      "text/plain": [
       "3"
      ]
     },
     "execution_count": 18,
     "metadata": {},
     "output_type": "execute_result"
    }
   ],
   "source": [
    "x+y"
   ]
  },
  {
   "cell_type": "code",
   "execution_count": 19,
   "id": "c46daeb4-5203-4632-b8e9-03cd8c559766",
   "metadata": {},
   "outputs": [],
   "source": [
    "z = x+y"
   ]
  },
  {
   "cell_type": "code",
   "execution_count": 20,
   "id": "ff2690e7-f2b6-42df-9b65-3b4f59dcfdb0",
   "metadata": {},
   "outputs": [
    {
     "data": {
      "text/plain": [
       "3"
      ]
     },
     "execution_count": 20,
     "metadata": {},
     "output_type": "execute_result"
    }
   ],
   "source": [
    "z\n"
   ]
  },
  {
   "cell_type": "code",
   "execution_count": 21,
   "id": "d8e427e6-78e2-44eb-ac63-a208dae381cc",
   "metadata": {},
   "outputs": [
    {
     "data": {
      "text/plain": [
       "'single'"
      ]
     },
     "execution_count": 21,
     "metadata": {},
     "output_type": "execute_result"
    }
   ],
   "source": [
    "'single'"
   ]
  },
  {
   "cell_type": "code",
   "execution_count": 22,
   "id": "7e892a49-26d0-4044-9cb2-968fc0e7cdd3",
   "metadata": {},
   "outputs": [
    {
     "data": {
      "text/plain": [
       "'double'"
      ]
     },
     "execution_count": 22,
     "metadata": {},
     "output_type": "execute_result"
    }
   ],
   "source": [
    "\"double\""
   ]
  },
  {
   "cell_type": "code",
   "execution_count": 23,
   "id": "d8f7f695-101f-4956-aac7-126e7bb66e66",
   "metadata": {},
   "outputs": [
    {
     "data": {
      "text/plain": [
       "\" i don't care \""
      ]
     },
     "execution_count": 23,
     "metadata": {},
     "output_type": "execute_result"
    }
   ],
   "source": [
    "\" i don't care \""
   ]
  },
  {
   "cell_type": "code",
   "execution_count": 24,
   "id": "32d44c39-0ce5-4615-bef5-0bdabf23dd0e",
   "metadata": {},
   "outputs": [],
   "source": [
    "x = 'hello'"
   ]
  },
  {
   "cell_type": "code",
   "execution_count": 25,
   "id": "f2da454b-1f1e-48a9-99ab-7f4fb2843d5f",
   "metadata": {},
   "outputs": [
    {
     "name": "stdout",
     "output_type": "stream",
     "text": [
      "hello\n"
     ]
    }
   ],
   "source": [
    "print(x)\n"
   ]
  },
  {
   "cell_type": "code",
   "execution_count": 26,
   "id": "3d8e1243-52de-4d82-9f1c-bbb6fcce83d2",
   "metadata": {},
   "outputs": [
    {
     "name": "stdout",
     "output_type": "stream",
     "text": [
      "DOUBLE\n"
     ]
    }
   ],
   "source": [
    "print(\"DOUBLE\")\n"
   ]
  },
  {
   "cell_type": "code",
   "execution_count": 27,
   "id": "d5c60d11-83ae-457a-9a37-6dd7504c5f78",
   "metadata": {},
   "outputs": [],
   "source": [
    "name = \"Jose Portilla\""
   ]
  },
  {
   "cell_type": "code",
   "execution_count": 28,
   "id": "0b8557a9-77e6-4a26-819c-364fcc8562fa",
   "metadata": {},
   "outputs": [
    {
     "name": "stdout",
     "output_type": "stream",
     "text": [
      "Hello my name is Jose Portilla\n"
     ]
    }
   ],
   "source": [
    "print(\"Hello my name is {}\".format(name) )"
   ]
  },
  {
   "cell_type": "code",
   "execution_count": 29,
   "id": "993aa9a8-4ab1-43a3-9610-3e5fbf27f0e0",
   "metadata": {},
   "outputs": [],
   "source": [
    "number = 12"
   ]
  },
  {
   "cell_type": "code",
   "execution_count": 30,
   "id": "789a18b0-56c1-4aad-8628-4b7d1c7c7ef6",
   "metadata": {},
   "outputs": [
    {
     "name": "stdout",
     "output_type": "stream",
     "text": [
      "hi my name is Jose Portilla and my number is 12\n"
     ]
    }
   ],
   "source": [
    "print(\"hi my name is {} and my number is {}\".format(name, number))"
   ]
  },
  {
   "cell_type": "code",
   "execution_count": 31,
   "id": "23964ed1-7a2a-4048-b55c-bc26827b8fc7",
   "metadata": {},
   "outputs": [
    {
     "data": {
      "text/plain": [
       "[1, 2, 3]"
      ]
     },
     "execution_count": 31,
     "metadata": {},
     "output_type": "execute_result"
    }
   ],
   "source": [
    "# LIST\n",
    "[1,2,3]"
   ]
  },
  {
   "cell_type": "code",
   "execution_count": 32,
   "id": "9d778a35-63e4-4f52-89e0-942038f0104c",
   "metadata": {},
   "outputs": [
    {
     "data": {
      "text/plain": [
       "['hi', 0, 1]"
      ]
     },
     "execution_count": 32,
     "metadata": {},
     "output_type": "execute_result"
    }
   ],
   "source": [
    "['hi', 0, 1]"
   ]
  },
  {
   "cell_type": "code",
   "execution_count": 33,
   "id": "2b14bea7-1ec4-4a1c-a51e-c2bdaaf9c46e",
   "metadata": {},
   "outputs": [],
   "source": [
    "my_list = [1,2,3] "
   ]
  },
  {
   "cell_type": "code",
   "execution_count": 34,
   "id": "eaedbfae-0bc8-46ed-84d1-e2bad4c5b2f0",
   "metadata": {},
   "outputs": [],
   "source": [
    "my_list.append(4)"
   ]
  },
  {
   "cell_type": "code",
   "execution_count": 35,
   "id": "87b2c602-00b8-42ce-b2dc-13a0ec07d470",
   "metadata": {},
   "outputs": [
    {
     "data": {
      "text/plain": [
       "[1, 2, 3, 4]"
      ]
     },
     "execution_count": 35,
     "metadata": {},
     "output_type": "execute_result"
    }
   ],
   "source": [
    "my_list"
   ]
  },
  {
   "cell_type": "code",
   "execution_count": 36,
   "id": "82856407-9caa-4342-a5c7-5b3f138b98d6",
   "metadata": {},
   "outputs": [],
   "source": [
    "my_list = ['a', 'b', 'c', 'd']"
   ]
  },
  {
   "cell_type": "code",
   "execution_count": 37,
   "id": "bcf71fc0-fba7-4dfc-b33b-2fad767de32b",
   "metadata": {},
   "outputs": [
    {
     "data": {
      "text/plain": [
       "['a', 'b', 'c', 'd']"
      ]
     },
     "execution_count": 37,
     "metadata": {},
     "output_type": "execute_result"
    }
   ],
   "source": [
    "my_list"
   ]
  },
  {
   "cell_type": "code",
   "execution_count": 38,
   "id": "2e72a17c-d815-42c0-bfa2-010210b4a176",
   "metadata": {},
   "outputs": [
    {
     "data": {
      "text/plain": [
       "'a'"
      ]
     },
     "execution_count": 38,
     "metadata": {},
     "output_type": "execute_result"
    }
   ],
   "source": [
    "my_list[0]"
   ]
  },
  {
   "cell_type": "code",
   "execution_count": 39,
   "id": "1e155798-1582-4866-b38f-b09e60a7dc2f",
   "metadata": {},
   "outputs": [
    {
     "data": {
      "text/plain": [
       "'d'"
      ]
     },
     "execution_count": 39,
     "metadata": {},
     "output_type": "execute_result"
    }
   ],
   "source": [
    "my_list[3]"
   ]
  },
  {
   "cell_type": "code",
   "execution_count": 40,
   "id": "375a38ea-48f8-4209-9787-7979607f051c",
   "metadata": {},
   "outputs": [
    {
     "data": {
      "text/plain": [
       "'d'"
      ]
     },
     "execution_count": 40,
     "metadata": {},
     "output_type": "execute_result"
    }
   ],
   "source": [
    "my_list[-1]"
   ]
  },
  {
   "cell_type": "code",
   "execution_count": 41,
   "id": "c6d06c89-a96d-4cc9-9a2f-dc3afa4e16bc",
   "metadata": {},
   "outputs": [
    {
     "data": {
      "text/plain": [
       "['a', 'b']"
      ]
     },
     "execution_count": 41,
     "metadata": {},
     "output_type": "execute_result"
    }
   ],
   "source": [
    "my_list[0:2]"
   ]
  },
  {
   "cell_type": "code",
   "execution_count": 42,
   "id": "dbafd9f3-3e99-4103-aeb8-a71d3d3ed7bd",
   "metadata": {},
   "outputs": [
    {
     "data": {
      "text/plain": [
       "['c', 'd']"
      ]
     },
     "execution_count": 42,
     "metadata": {},
     "output_type": "execute_result"
    }
   ],
   "source": [
    "my_list[2:]"
   ]
  },
  {
   "cell_type": "code",
   "execution_count": 43,
   "id": "3246a149-0da5-4756-8b20-6117a281d8c8",
   "metadata": {},
   "outputs": [],
   "source": [
    "nested = [1,2,['a','b']]"
   ]
  },
  {
   "cell_type": "code",
   "execution_count": 44,
   "id": "2eff01e0-9f13-4921-bf7d-234ac77b8120",
   "metadata": {},
   "outputs": [
    {
     "data": {
      "text/plain": [
       "[1, 2, ['a', 'b']]"
      ]
     },
     "execution_count": 44,
     "metadata": {},
     "output_type": "execute_result"
    }
   ],
   "source": [
    "nested"
   ]
  },
  {
   "cell_type": "code",
   "execution_count": 45,
   "id": "83a08b74-dda3-42b9-822b-7f8fa2f7645a",
   "metadata": {},
   "outputs": [
    {
     "data": {
      "text/plain": [
       "['a', 'b']"
      ]
     },
     "execution_count": 45,
     "metadata": {},
     "output_type": "execute_result"
    }
   ],
   "source": [
    "nested[2]"
   ]
  },
  {
   "cell_type": "code",
   "execution_count": 46,
   "id": "54dea1aa-b1c9-4324-914c-c564318da682",
   "metadata": {},
   "outputs": [
    {
     "data": {
      "text/plain": [
       "'a'"
      ]
     },
     "execution_count": 46,
     "metadata": {},
     "output_type": "execute_result"
    }
   ],
   "source": [
    "nested[2][0]"
   ]
  },
  {
   "cell_type": "code",
   "execution_count": 47,
   "id": "955edeb1-40cf-4723-8f6d-840f5d89f431",
   "metadata": {},
   "outputs": [],
   "source": [
    "d = {'key':10,'key2':'seconditem'}"
   ]
  },
  {
   "cell_type": "code",
   "execution_count": 48,
   "id": "99b5956b-d1ff-4db4-9230-34fcd435e1dc",
   "metadata": {},
   "outputs": [
    {
     "data": {
      "text/plain": [
       "10"
      ]
     },
     "execution_count": 48,
     "metadata": {},
     "output_type": "execute_result"
    }
   ],
   "source": [
    "d['key']"
   ]
  },
  {
   "cell_type": "code",
   "execution_count": 49,
   "id": "7c31dec5-8b33-4ef3-a6aa-6b39fbe4d57e",
   "metadata": {},
   "outputs": [
    {
     "data": {
      "text/plain": [
       "'seconditem'"
      ]
     },
     "execution_count": 49,
     "metadata": {},
     "output_type": "execute_result"
    }
   ],
   "source": [
    "d['key2']"
   ]
  },
  {
   "cell_type": "code",
   "execution_count": 50,
   "id": "0cd7285f-12e7-4e4e-b7ba-3782c8beea52",
   "metadata": {},
   "outputs": [
    {
     "data": {
      "text/plain": [
       "True"
      ]
     },
     "execution_count": 50,
     "metadata": {},
     "output_type": "execute_result"
    }
   ],
   "source": [
    "True"
   ]
  },
  {
   "cell_type": "code",
   "execution_count": 51,
   "id": "e6d85a98-e05d-402c-9a03-30d99ca3246b",
   "metadata": {},
   "outputs": [
    {
     "data": {
      "text/plain": [
       "False"
      ]
     },
     "execution_count": 51,
     "metadata": {},
     "output_type": "execute_result"
    }
   ],
   "source": [
    "False"
   ]
  },
  {
   "cell_type": "code",
   "execution_count": 52,
   "id": "ffd92873-8340-4ea8-8b50-347622931a0e",
   "metadata": {},
   "outputs": [],
   "source": [
    "t = (1,2,3)"
   ]
  },
  {
   "cell_type": "code",
   "execution_count": 53,
   "id": "1b88497b-be75-4d86-83f0-ff2731b0cbce",
   "metadata": {},
   "outputs": [
    {
     "data": {
      "text/plain": [
       "1"
      ]
     },
     "execution_count": 53,
     "metadata": {},
     "output_type": "execute_result"
    }
   ],
   "source": [
    "t[0]"
   ]
  },
  {
   "cell_type": "code",
   "execution_count": 54,
   "id": "ae106008-c653-427d-a547-644b5526a996",
   "metadata": {},
   "outputs": [],
   "source": [
    "my_list = [1,2,3]"
   ]
  },
  {
   "cell_type": "code",
   "execution_count": 55,
   "id": "9d8e66c0-81e9-4bdc-a518-e04ac8065e02",
   "metadata": {},
   "outputs": [
    {
     "data": {
      "text/plain": [
       "1"
      ]
     },
     "execution_count": 55,
     "metadata": {},
     "output_type": "execute_result"
    }
   ],
   "source": [
    "my_list[0]"
   ]
  },
  {
   "cell_type": "code",
   "execution_count": 56,
   "id": "12dd4269-6797-4484-925a-822903858434",
   "metadata": {},
   "outputs": [],
   "source": [
    "my_list[0] = 'NEW'"
   ]
  },
  {
   "cell_type": "code",
   "execution_count": 57,
   "id": "0f7c795c-a332-4570-bb8b-5f871c8ec387",
   "metadata": {},
   "outputs": [
    {
     "data": {
      "text/plain": [
       "['NEW', 2, 3]"
      ]
     },
     "execution_count": 57,
     "metadata": {},
     "output_type": "execute_result"
    }
   ],
   "source": [
    "my_list"
   ]
  },
  {
   "cell_type": "code",
   "execution_count": 59,
   "id": "b2964dd1-6db3-4b84-a5a6-5c35fa942fb2",
   "metadata": {},
   "outputs": [],
   "source": [
    "# Set"
   ]
  },
  {
   "cell_type": "code",
   "execution_count": 60,
   "id": "e768086b-5358-4f35-a982-650773837b1d",
   "metadata": {},
   "outputs": [
    {
     "data": {
      "text/plain": [
       "{1, 2, 3}"
      ]
     },
     "execution_count": 60,
     "metadata": {},
     "output_type": "execute_result"
    }
   ],
   "source": [
    "{1,2,3}"
   ]
  },
  {
   "cell_type": "code",
   "execution_count": 61,
   "id": "9443025b-3f46-4d01-ac70-e452864cf700",
   "metadata": {},
   "outputs": [
    {
     "data": {
      "text/plain": [
       "{1, 2, 3}"
      ]
     },
     "execution_count": 61,
     "metadata": {},
     "output_type": "execute_result"
    }
   ],
   "source": [
    "{1,1,1,1,1,2,3,3,3,3,3}"
   ]
  },
  {
   "cell_type": "code",
   "execution_count": 65,
   "id": "58d1f156-95a4-43c8-8d79-8ce4918c670b",
   "metadata": {},
   "outputs": [],
   "source": [
    "# comparison operators"
   ]
  },
  {
   "cell_type": "code",
   "execution_count": 66,
   "id": "81c64a96-af6b-4176-a441-ace44de1ba28",
   "metadata": {},
   "outputs": [
    {
     "data": {
      "text/plain": [
       "True"
      ]
     },
     "execution_count": 66,
     "metadata": {},
     "output_type": "execute_result"
    }
   ],
   "source": [
    "1 < 2"
   ]
  },
  {
   "cell_type": "code",
   "execution_count": 67,
   "id": "2b96aeab-0d0b-4215-b5bc-1111f52a604a",
   "metadata": {},
   "outputs": [
    {
     "data": {
      "text/plain": [
       "False"
      ]
     },
     "execution_count": 67,
     "metadata": {},
     "output_type": "execute_result"
    }
   ],
   "source": [
    "1 > 2"
   ]
  },
  {
   "cell_type": "code",
   "execution_count": 68,
   "id": "05a5b1e0-be67-46db-b19c-31559831fecd",
   "metadata": {},
   "outputs": [
    {
     "data": {
      "text/plain": [
       "True"
      ]
     },
     "execution_count": 68,
     "metadata": {},
     "output_type": "execute_result"
    }
   ],
   "source": [
    "1 <= 2"
   ]
  },
  {
   "cell_type": "code",
   "execution_count": 69,
   "id": "de20905f-c088-4dbb-b349-ec38e970b7b6",
   "metadata": {},
   "outputs": [
    {
     "data": {
      "text/plain": [
       "False"
      ]
     },
     "execution_count": 69,
     "metadata": {},
     "output_type": "execute_result"
    }
   ],
   "source": [
    "1 >= 3"
   ]
  },
  {
   "cell_type": "code",
   "execution_count": 70,
   "id": "14f1157a-ae47-4d33-a6da-93a92ba52f5a",
   "metadata": {},
   "outputs": [
    {
     "data": {
      "text/plain": [
       "True"
      ]
     },
     "execution_count": 70,
     "metadata": {},
     "output_type": "execute_result"
    }
   ],
   "source": [
    "1 == 1"
   ]
  },
  {
   "cell_type": "code",
   "execution_count": 71,
   "id": "ddb42177-8db5-4c84-8dc6-edea82a0e8d1",
   "metadata": {},
   "outputs": [
    {
     "data": {
      "text/plain": [
       "False"
      ]
     },
     "execution_count": 71,
     "metadata": {},
     "output_type": "execute_result"
    }
   ],
   "source": [
    "1 != 1"
   ]
  },
  {
   "cell_type": "code",
   "execution_count": 72,
   "id": "75fe01fe-deb1-4f2a-a7e9-678e554bcd07",
   "metadata": {},
   "outputs": [
    {
     "data": {
      "text/plain": [
       "True"
      ]
     },
     "execution_count": 72,
     "metadata": {},
     "output_type": "execute_result"
    }
   ],
   "source": [
    "1 != 3"
   ]
  },
  {
   "cell_type": "code",
   "execution_count": 73,
   "id": "df964a85-72a0-4c9b-8b5c-3b7e33cc6032",
   "metadata": {},
   "outputs": [
    {
     "data": {
      "text/plain": [
       "True"
      ]
     },
     "execution_count": 73,
     "metadata": {},
     "output_type": "execute_result"
    }
   ],
   "source": [
    "'string' == 'string'"
   ]
  },
  {
   "cell_type": "code",
   "execution_count": 74,
   "id": "6e37364b-c223-4356-9e85-466789dbeaef",
   "metadata": {},
   "outputs": [
    {
     "data": {
      "text/plain": [
       "False"
      ]
     },
     "execution_count": 74,
     "metadata": {},
     "output_type": "execute_result"
    }
   ],
   "source": [
    "1 == '1'"
   ]
  },
  {
   "cell_type": "code",
   "execution_count": 75,
   "id": "be634377-fe7b-48bf-9b61-2663081594ec",
   "metadata": {},
   "outputs": [],
   "source": [
    "# logical operators"
   ]
  },
  {
   "cell_type": "code",
   "execution_count": 76,
   "id": "83387a0e-f1bb-4a1e-a616-ffaaa68168c3",
   "metadata": {},
   "outputs": [
    {
     "data": {
      "text/plain": [
       "False"
      ]
     },
     "execution_count": 76,
     "metadata": {},
     "output_type": "execute_result"
    }
   ],
   "source": [
    "(1 == 2) and (1 == 1)"
   ]
  },
  {
   "cell_type": "code",
   "execution_count": 77,
   "id": "55712179-7c32-4c0e-8c27-c80871a87559",
   "metadata": {},
   "outputs": [
    {
     "data": {
      "text/plain": [
       "True"
      ]
     },
     "execution_count": 77,
     "metadata": {},
     "output_type": "execute_result"
    }
   ],
   "source": [
    "(1==2) or (1==1)"
   ]
  },
  {
   "cell_type": "code",
   "execution_count": 78,
   "id": "94692e08-fff8-4300-b663-395741d68549",
   "metadata": {},
   "outputs": [
    {
     "data": {
      "text/plain": [
       "True"
      ]
     },
     "execution_count": 78,
     "metadata": {},
     "output_type": "execute_result"
    }
   ],
   "source": [
    "(1==1) and not (1==2)"
   ]
  },
  {
   "cell_type": "code",
   "execution_count": 83,
   "id": "87c67a7c-c015-4f17-9421-6abf21152688",
   "metadata": {},
   "outputs": [
    {
     "name": "stdout",
     "output_type": "stream",
     "text": [
      "hello\n"
     ]
    }
   ],
   "source": [
    "if (1==1):\n",
    "    print('hello')\n",
    "elif 2==2:\n",
    "    print('yello!')\n",
    "else:\n",
    "    print('heyo')"
   ]
  },
  {
   "cell_type": "code",
   "execution_count": 84,
   "id": "23180a9d-46ab-452f-8fcb-27b5fa9c1342",
   "metadata": {},
   "outputs": [],
   "source": [
    "# for loops"
   ]
  },
  {
   "cell_type": "code",
   "execution_count": 85,
   "id": "d8df891b-4888-4888-a090-a66cfd6f9143",
   "metadata": {},
   "outputs": [],
   "source": [
    "seq = [1,2,3,4,5]"
   ]
  },
  {
   "cell_type": "code",
   "execution_count": 89,
   "id": "7fe53a0b-eb2f-4ddb-abe4-8ea05f8cc488",
   "metadata": {},
   "outputs": [
    {
     "name": "stdout",
     "output_type": "stream",
     "text": [
      "1\n",
      "4\n",
      "9\n",
      "16\n",
      "25\n"
     ]
    }
   ],
   "source": [
    "for jelly in seq:\n",
    "    print(jelly**2)"
   ]
  },
  {
   "cell_type": "code",
   "execution_count": 90,
   "id": "ab41c6e4-66d0-4bb9-91ba-358e0d58f53c",
   "metadata": {},
   "outputs": [
    {
     "name": "stdout",
     "output_type": "stream",
     "text": [
      "i is currently 1\n",
      "i is currently 2\n",
      "i is currently 3\n",
      "i is currently 4\n"
     ]
    }
   ],
   "source": [
    "i = 1\n",
    "while i < 5:\n",
    "    print('i is currently {}'.format(i))\n",
    "    i = i+1"
   ]
  },
  {
   "cell_type": "code",
   "execution_count": 91,
   "id": "eba5208c-4e8f-4155-9d59-d53c44d76b02",
   "metadata": {},
   "outputs": [],
   "source": [
    "# range()"
   ]
  },
  {
   "cell_type": "code",
   "execution_count": 92,
   "id": "6ba9999b-485d-49ea-8210-cefbf279e486",
   "metadata": {},
   "outputs": [
    {
     "data": {
      "text/plain": [
       "range(0, 5)"
      ]
     },
     "execution_count": 92,
     "metadata": {},
     "output_type": "execute_result"
    }
   ],
   "source": [
    "range(5)"
   ]
  },
  {
   "cell_type": "code",
   "execution_count": 94,
   "id": "f60762bc-b592-4794-a138-a72e3d370ba8",
   "metadata": {},
   "outputs": [
    {
     "name": "stdout",
     "output_type": "stream",
     "text": [
      "0\n",
      "2\n",
      "4\n",
      "6\n",
      "8\n",
      "10\n",
      "12\n",
      "14\n",
      "16\n",
      "18\n"
     ]
    }
   ],
   "source": [
    "for item in range(0,20,2):\n",
    "    print(item)"
   ]
  },
  {
   "cell_type": "code",
   "execution_count": 95,
   "id": "90eca3aa-ff4d-4fee-8e51-ed135a2fabfa",
   "metadata": {},
   "outputs": [
    {
     "data": {
      "text/plain": [
       "[1, 2, 3, 4, 5, 6, 7, 8, 9, 10]"
      ]
     },
     "execution_count": 95,
     "metadata": {},
     "output_type": "execute_result"
    }
   ],
   "source": [
    "list(range(1,11))"
   ]
  },
  {
   "cell_type": "code",
   "execution_count": 96,
   "id": "a7b8eeae-572a-4b15-aef4-70d2b874ef40",
   "metadata": {},
   "outputs": [],
   "source": [
    "# list comprehension"
   ]
  },
  {
   "cell_type": "code",
   "execution_count": 97,
   "id": "c455b99e-c59d-4b0c-b705-421f0ebc99dc",
   "metadata": {},
   "outputs": [],
   "source": [
    "x = [1,2,3,4]"
   ]
  },
  {
   "cell_type": "code",
   "execution_count": 98,
   "id": "b758e787-f832-4ba1-93f7-89f89613fd74",
   "metadata": {},
   "outputs": [],
   "source": [
    "out = [] \n",
    "for num in x:\n",
    "    out.append(num**2)"
   ]
  },
  {
   "cell_type": "code",
   "execution_count": 99,
   "id": "3bb84d0e-81c2-4479-8192-0736f9a29db1",
   "metadata": {},
   "outputs": [
    {
     "data": {
      "text/plain": [
       "[1, 4, 9, 16]"
      ]
     },
     "execution_count": 99,
     "metadata": {},
     "output_type": "execute_result"
    }
   ],
   "source": [
    "out"
   ]
  },
  {
   "cell_type": "code",
   "execution_count": 100,
   "id": "5314586c-a419-425a-9c18-fb6b65673884",
   "metadata": {},
   "outputs": [
    {
     "data": {
      "text/plain": [
       "[1, 4, 9, 16]"
      ]
     },
     "execution_count": 100,
     "metadata": {},
     "output_type": "execute_result"
    }
   ],
   "source": [
    "[num**2 for num in x]"
   ]
  },
  {
   "cell_type": "code",
   "execution_count": 101,
   "id": "4a2afc7b-4c2a-48bc-a753-18db0f96206c",
   "metadata": {},
   "outputs": [],
   "source": [
    "# functions\n",
    "# lambda expressions\n",
    "# map and filter\n",
    "# various useful methods"
   ]
  },
  {
   "cell_type": "code",
   "execution_count": 110,
   "id": "e11f9dd4-1fae-40ff-9b56-2b97b2815c36",
   "metadata": {},
   "outputs": [],
   "source": [
    "def my_func(argument):\n",
    "    \"\"\"\n",
    "    Docstring goes here!\n",
    "    \"\"\"\n",
    "    return argument * 5"
   ]
  },
  {
   "cell_type": "code",
   "execution_count": 111,
   "id": "fa7929d8-0548-4b9a-a9e8-d741d621d290",
   "metadata": {
    "scrolled": true
   },
   "outputs": [],
   "source": [
    "x = my_func(5)"
   ]
  },
  {
   "cell_type": "code",
   "execution_count": 112,
   "id": "18409d81-5926-45b4-8afe-19db77dbabc0",
   "metadata": {},
   "outputs": [
    {
     "name": "stdout",
     "output_type": "stream",
     "text": [
      "25\n"
     ]
    }
   ],
   "source": [
    "print(x)"
   ]
  },
  {
   "cell_type": "code",
   "execution_count": 113,
   "id": "73271d9b-b1c7-46f7-9e90-7fd1ced7dc51",
   "metadata": {},
   "outputs": [],
   "source": [
    "def times_two(var):\n",
    "    return var*2"
   ]
  },
  {
   "cell_type": "code",
   "execution_count": 114,
   "id": "3dab0bd5-740d-4796-8ea1-c85b3589c406",
   "metadata": {},
   "outputs": [],
   "source": [
    "result = times_two(4)"
   ]
  },
  {
   "cell_type": "code",
   "execution_count": 115,
   "id": "d0bbb2df-eb7d-4377-bd51-70fff86f4b45",
   "metadata": {},
   "outputs": [
    {
     "data": {
      "text/plain": [
       "8"
      ]
     },
     "execution_count": 115,
     "metadata": {},
     "output_type": "execute_result"
    }
   ],
   "source": [
    "result"
   ]
  },
  {
   "cell_type": "code",
   "execution_count": 116,
   "id": "1b410929-cd28-49b7-95d9-55c04446e71f",
   "metadata": {},
   "outputs": [
    {
     "data": {
      "text/plain": [
       "<function __main__.<lambda>(var)>"
      ]
     },
     "execution_count": 116,
     "metadata": {},
     "output_type": "execute_result"
    }
   ],
   "source": [
    "lambda var: var*2"
   ]
  },
  {
   "cell_type": "code",
   "execution_count": 117,
   "id": "34e542e7-4f89-43cf-994c-8056cb7a09ab",
   "metadata": {},
   "outputs": [],
   "source": [
    "seq = [1,2,3,4,5]"
   ]
  },
  {
   "cell_type": "code",
   "execution_count": 120,
   "id": "a5fdef64-3fdd-42bd-b11d-d63afa7295a7",
   "metadata": {},
   "outputs": [
    {
     "data": {
      "text/plain": [
       "[2, 4, 6, 8, 10]"
      ]
     },
     "execution_count": 120,
     "metadata": {},
     "output_type": "execute_result"
    }
   ],
   "source": [
    "list(map(lambda var:var*2, seq))"
   ]
  },
  {
   "cell_type": "code",
   "execution_count": 121,
   "id": "0fccc8db-e95b-415b-88ca-d0e7f9e8c9eb",
   "metadata": {},
   "outputs": [],
   "source": [
    "lambda num:num%2 == 0\n",
    "    return num%2 == 0"
   ]
  },
  {
   "cell_type": "code",
   "execution_count": 122,
   "id": "4c3ac773-f1f0-4bc4-913d-aacfcc53a646",
   "metadata": {},
   "outputs": [
    {
     "data": {
      "text/plain": [
       "[2, 4]"
      ]
     },
     "execution_count": 122,
     "metadata": {},
     "output_type": "execute_result"
    }
   ],
   "source": [
    "list(filter(lambda num:num%2 == 0, seq))"
   ]
  },
  {
   "cell_type": "code",
   "execution_count": 123,
   "id": "24c83bf9-331c-465d-896b-22ee7a0f2440",
   "metadata": {},
   "outputs": [],
   "source": [
    "# methods"
   ]
  },
  {
   "cell_type": "code",
   "execution_count": 124,
   "id": "96654742-72f9-4da3-8308-4607983d42c4",
   "metadata": {},
   "outputs": [],
   "source": [
    "st = 'hello my name is sam'"
   ]
  },
  {
   "cell_type": "code",
   "execution_count": 125,
   "id": "62d6016b-e795-419a-9714-d0ecc13d068c",
   "metadata": {},
   "outputs": [
    {
     "data": {
      "text/plain": [
       "'hello my name is sam'"
      ]
     },
     "execution_count": 125,
     "metadata": {},
     "output_type": "execute_result"
    }
   ],
   "source": [
    "st.lower()"
   ]
  },
  {
   "cell_type": "code",
   "execution_count": 126,
   "id": "89a4f614-f065-4daf-8b6f-d595a0be2a00",
   "metadata": {},
   "outputs": [
    {
     "data": {
      "text/plain": [
       "'HELLO MY NAME IS SAM'"
      ]
     },
     "execution_count": 126,
     "metadata": {},
     "output_type": "execute_result"
    }
   ],
   "source": [
    "st.upper()"
   ]
  },
  {
   "cell_type": "code",
   "execution_count": 127,
   "id": "0cbd8bc0-9786-42c1-8205-c944c7480e35",
   "metadata": {},
   "outputs": [],
   "source": [
    "tweet = \"Go sports! #cool\""
   ]
  },
  {
   "cell_type": "code",
   "execution_count": 144,
   "id": "f930a5b7-e054-497a-b559-6c8f1039f9a3",
   "metadata": {},
   "outputs": [
    {
     "data": {
      "text/plain": [
       "['Go sports! ', 'cool']"
      ]
     },
     "execution_count": 144,
     "metadata": {},
     "output_type": "execute_result"
    }
   ],
   "source": [
    "tweet.split('#', 1)"
   ]
  },
  {
   "cell_type": "code",
   "execution_count": 130,
   "id": "1c1083ed-a781-438c-baac-b2130c534bf5",
   "metadata": {},
   "outputs": [
    {
     "data": {
      "text/plain": [
       "{'key': 10, 'key2': 'seconditem'}"
      ]
     },
     "execution_count": 130,
     "metadata": {},
     "output_type": "execute_result"
    }
   ],
   "source": [
    "d"
   ]
  },
  {
   "cell_type": "code",
   "execution_count": 131,
   "id": "5a027cd0-ebd2-4389-8fa9-ddd5158f03e5",
   "metadata": {},
   "outputs": [
    {
     "data": {
      "text/plain": [
       "dict_keys(['key', 'key2'])"
      ]
     },
     "execution_count": 131,
     "metadata": {},
     "output_type": "execute_result"
    }
   ],
   "source": [
    "d.keys()"
   ]
  },
  {
   "cell_type": "code",
   "execution_count": 132,
   "id": "e7191454-5612-4f14-8481-ca227997b91a",
   "metadata": {},
   "outputs": [
    {
     "data": {
      "text/plain": [
       "dict_items([('key', 10), ('key2', 'seconditem')])"
      ]
     },
     "execution_count": 132,
     "metadata": {},
     "output_type": "execute_result"
    }
   ],
   "source": [
    "d.items()"
   ]
  },
  {
   "cell_type": "code",
   "execution_count": 133,
   "id": "258c4985-86d9-4d3d-948e-5a1312933fa2",
   "metadata": {},
   "outputs": [],
   "source": [
    "my_list = [1,2,3]"
   ]
  },
  {
   "cell_type": "code",
   "execution_count": 134,
   "id": "0b18a939-f5bc-481d-b519-490b3091a6d6",
   "metadata": {},
   "outputs": [],
   "source": [
    "my_list.append(4)"
   ]
  },
  {
   "cell_type": "code",
   "execution_count": 135,
   "id": "713ff6b0-8ca9-4082-a578-635db9173e72",
   "metadata": {},
   "outputs": [
    {
     "data": {
      "text/plain": [
       "[1, 2, 3, 4]"
      ]
     },
     "execution_count": 135,
     "metadata": {},
     "output_type": "execute_result"
    }
   ],
   "source": [
    "my_list"
   ]
  },
  {
   "cell_type": "code",
   "execution_count": 136,
   "id": "5c34dc63-a0ba-4c86-86f6-df8dd47e301e",
   "metadata": {},
   "outputs": [
    {
     "data": {
      "text/plain": [
       "4"
      ]
     },
     "execution_count": 136,
     "metadata": {},
     "output_type": "execute_result"
    }
   ],
   "source": [
    "my_list.pop()"
   ]
  },
  {
   "cell_type": "code",
   "execution_count": 137,
   "id": "75e4d73d-67c2-40b3-ad55-0853076fbe6c",
   "metadata": {},
   "outputs": [
    {
     "data": {
      "text/plain": [
       "1"
      ]
     },
     "execution_count": 137,
     "metadata": {},
     "output_type": "execute_result"
    }
   ],
   "source": [
    "my_list.pop(0)"
   ]
  },
  {
   "cell_type": "code",
   "execution_count": 138,
   "id": "9d3a8e16-0806-48cf-aaf1-6091be33377b",
   "metadata": {},
   "outputs": [
    {
     "data": {
      "text/plain": [
       "[2, 3]"
      ]
     },
     "execution_count": 138,
     "metadata": {},
     "output_type": "execute_result"
    }
   ],
   "source": [
    "my_list"
   ]
  },
  {
   "cell_type": "code",
   "execution_count": 139,
   "id": "5f5d404b-06f3-4c25-b51c-00c6a1b3ccba",
   "metadata": {},
   "outputs": [
    {
     "data": {
      "text/plain": [
       "False"
      ]
     },
     "execution_count": 139,
     "metadata": {},
     "output_type": "execute_result"
    }
   ],
   "source": [
    "1 in my_list"
   ]
  },
  {
   "cell_type": "code",
   "execution_count": 140,
   "id": "3f3ef6d9-b2ae-461b-9e66-6237ad2d388c",
   "metadata": {},
   "outputs": [
    {
     "data": {
      "text/plain": [
       "True"
      ]
     },
     "execution_count": 140,
     "metadata": {},
     "output_type": "execute_result"
    }
   ],
   "source": [
    "2 in my_list"
   ]
  },
  {
   "cell_type": "code",
   "execution_count": 142,
   "id": "44f5a5cd-d566-4ed5-bbec-b022a5bedb28",
   "metadata": {},
   "outputs": [
    {
     "data": {
      "text/plain": [
       "True"
      ]
     },
     "execution_count": 142,
     "metadata": {},
     "output_type": "execute_result"
    }
   ],
   "source": [
    "'a' in [1,2,'a']"
   ]
  },
  {
   "cell_type": "code",
   "execution_count": null,
   "id": "4a91653b-b4e7-4ecb-b4bb-e7253970ac9a",
   "metadata": {},
   "outputs": [],
   "source": []
  }
 ],
 "metadata": {
  "kernelspec": {
   "display_name": "Python 3 (ipykernel)",
   "language": "python",
   "name": "python3"
  },
  "language_info": {
   "codemirror_mode": {
    "name": "ipython",
    "version": 3
   },
   "file_extension": ".py",
   "mimetype": "text/x-python",
   "name": "python",
   "nbconvert_exporter": "python",
   "pygments_lexer": "ipython3",
   "version": "3.11.5"
  }
 },
 "nbformat": 4,
 "nbformat_minor": 5
}
