{
 "cells": [
  {
   "cell_type": "markdown",
   "id": "adb3c2b7-7383-42b6-9dc1-b5e866e05ed7",
   "metadata": {},
   "source": [
    "# numpy indexing"
   ]
  },
  {
   "cell_type": "markdown",
   "id": "a3ea9ed6-3862-4a15-a7e1-823b4ebb27ca",
   "metadata": {},
   "source": [
    "import numpy library to have access to numpy"
   ]
  },
  {
   "cell_type": "code",
   "execution_count": 30,
   "id": "5afc0fa9-1bea-4253-9015-8bbd9ff09c7b",
   "metadata": {},
   "outputs": [],
   "source": [
    "import numpy as np"
   ]
  },
  {
   "cell_type": "markdown",
   "id": "a9bb286f-8e32-4b2c-bfe2-982bdbb5f47a",
   "metadata": {},
   "source": [
    "create array with ascending numbers"
   ]
  },
  {
   "cell_type": "code",
   "execution_count": 31,
   "id": "c84a923d-8630-4fd1-9681-3ba1945f831a",
   "metadata": {},
   "outputs": [],
   "source": [
    "arr = np.arange(0,11)"
   ]
  },
  {
   "cell_type": "code",
   "execution_count": 32,
   "id": "0a19f317-a6c3-4e04-9532-4df6ee1b1d37",
   "metadata": {},
   "outputs": [
    {
     "data": {
      "text/plain": [
       "array([ 0,  1,  2,  3,  4,  5,  6,  7,  8,  9, 10])"
      ]
     },
     "execution_count": 32,
     "metadata": {},
     "output_type": "execute_result"
    }
   ],
   "source": [
    "arr"
   ]
  },
  {
   "cell_type": "markdown",
   "id": "be7fd63e-8fec-462d-910e-3c13b14e2fba",
   "metadata": {},
   "source": [
    "select a value from array based on index"
   ]
  },
  {
   "cell_type": "code",
   "execution_count": 33,
   "id": "c8b0a31f-d2d4-432f-9bb4-ca64f29898bf",
   "metadata": {},
   "outputs": [
    {
     "data": {
      "text/plain": [
       "8"
      ]
     },
     "execution_count": 33,
     "metadata": {},
     "output_type": "execute_result"
    }
   ],
   "source": [
    "arr[8]"
   ]
  },
  {
   "cell_type": "markdown",
   "id": "21c96d50-ed26-44e1-98bb-a720a6c26666",
   "metadata": {},
   "source": [
    "select a slice of array values\n",
    "starting location, up to but not including"
   ]
  },
  {
   "cell_type": "code",
   "execution_count": 34,
   "id": "1b8dd9a4-7af7-4c97-9f75-a43b7193b1a6",
   "metadata": {},
   "outputs": [
    {
     "data": {
      "text/plain": [
       "array([1, 2, 3, 4])"
      ]
     },
     "execution_count": 34,
     "metadata": {},
     "output_type": "execute_result"
    }
   ],
   "source": [
    "arr[1:5]"
   ]
  },
  {
   "cell_type": "markdown",
   "id": "7479fc7e-6113-4673-8791-a0d7c4079966",
   "metadata": {},
   "source": [
    "## broadcasting\n",
    "numpy arrays differ from normal python arrays in that the numpy arrays\n",
    "have the ability to broadcast"
   ]
  },
  {
   "cell_type": "markdown",
   "id": "e358fe67-ded9-484b-a696-90fb3f6919a9",
   "metadata": {},
   "source": [
    "this kind of operation cannot be done with a normal python list\n",
    "i can grab a slice of an array and set it to 100\n",
    "this is known as broadcasting"
   ]
  },
  {
   "cell_type": "code",
   "execution_count": 35,
   "id": "17572eeb-68d8-4a83-b0d7-03699bf802bb",
   "metadata": {},
   "outputs": [
    {
     "data": {
      "text/plain": [
       "array([100, 100, 100, 100, 100,   5,   6,   7,   8,   9,  10])"
      ]
     },
     "execution_count": 35,
     "metadata": {},
     "output_type": "execute_result"
    }
   ],
   "source": [
    "arr[0:5] = 100\n",
    "arr"
   ]
  },
  {
   "cell_type": "markdown",
   "id": "bfa4457b-922b-45a8-ad3b-966dee79ab74",
   "metadata": {},
   "source": [
    "set it back to previous value"
   ]
  },
  {
   "cell_type": "code",
   "execution_count": 36,
   "id": "5b4fc629-f52f-4f5f-b37a-613c97390804",
   "metadata": {},
   "outputs": [
    {
     "data": {
      "text/plain": [
       "array([ 0,  1,  2,  3,  4,  5,  6,  7,  8,  9, 10])"
      ]
     },
     "execution_count": 36,
     "metadata": {},
     "output_type": "execute_result"
    }
   ],
   "source": [
    "arr = np.arange(0,11)\n",
    "arr"
   ]
  },
  {
   "cell_type": "markdown",
   "id": "a0c3c54e-d430-4fcb-9c61-ca2959297b6a",
   "metadata": {},
   "source": [
    "### copying"
   ]
  },
  {
   "cell_type": "markdown",
   "id": "13d3e3dd-d57b-4103-823a-c600fcde2f4c",
   "metadata": {},
   "source": [
    "You will notice here that a slice of an array is not a copy of the original \n",
    "array but is a view of the original array. In truth, it is a pointer. \n",
    "If you want to copy the original\n",
    "array, you must explicitly tell numpy that you want a copy. The reason why\n",
    "it is this way is to avoid memory issues, such as running out of ram \n",
    "when working with large datasets."
   ]
  },
  {
   "cell_type": "code",
   "execution_count": 37,
   "id": "c9db29cd-41e4-43d3-a8e1-e22c2c8852da",
   "metadata": {},
   "outputs": [
    {
     "data": {
      "text/plain": [
       "array([0, 1, 2, 3, 4, 5])"
      ]
     },
     "execution_count": 37,
     "metadata": {},
     "output_type": "execute_result"
    }
   ],
   "source": [
    "slice_of_arr = arr[0:6]\n",
    "slice_of_arr"
   ]
  },
  {
   "cell_type": "code",
   "execution_count": 38,
   "id": "2e8a4cdf-6968-495b-afe6-80bc5488c24f",
   "metadata": {},
   "outputs": [
    {
     "data": {
      "text/plain": [
       "array([99, 99, 99, 99, 99, 99])"
      ]
     },
     "execution_count": 38,
     "metadata": {},
     "output_type": "execute_result"
    }
   ],
   "source": [
    "\n",
    "slice_of_arr[:] = 99\n",
    "slice_of_arr"
   ]
  },
  {
   "cell_type": "code",
   "execution_count": 39,
   "id": "3f3230c9-733d-4f0c-8aa4-0db5b8c01f62",
   "metadata": {},
   "outputs": [
    {
     "data": {
      "text/plain": [
       "array([99, 99, 99, 99, 99, 99,  6,  7,  8,  9, 10])"
      ]
     },
     "execution_count": 39,
     "metadata": {},
     "output_type": "execute_result"
    }
   ],
   "source": [
    "arr"
   ]
  },
  {
   "cell_type": "markdown",
   "id": "00924c93-0e8a-4ddb-8cc4-be324c13ba76",
   "metadata": {},
   "source": [
    "here, we will explicitly copy the array"
   ]
  },
  {
   "cell_type": "code",
   "execution_count": 40,
   "id": "5cd7f745-d987-4124-8d9d-74bc9e20fcbd",
   "metadata": {},
   "outputs": [
    {
     "data": {
      "text/plain": [
       "array([99, 99, 99, 99, 99, 99,  6,  7,  8,  9, 10])"
      ]
     },
     "execution_count": 40,
     "metadata": {},
     "output_type": "execute_result"
    }
   ],
   "source": [
    "arr_copy = arr.copy()\n",
    "arr"
   ]
  },
  {
   "cell_type": "code",
   "execution_count": 44,
   "id": "926ece47-f704-4a9b-871a-5b5fd7bc5a84",
   "metadata": {},
   "outputs": [
    {
     "data": {
      "text/plain": [
       "array([200, 200, 200, 200, 200, 200, 200, 200, 200, 200, 200])"
      ]
     },
     "execution_count": 44,
     "metadata": {},
     "output_type": "execute_result"
    }
   ],
   "source": [
    "arr_copy"
   ]
  },
  {
   "cell_type": "markdown",
   "id": "97245c16-9c2a-45a1-af1a-60e064f68b83",
   "metadata": {},
   "source": [
    "here, we will change the copy, and we will see that the original is the same"
   ]
  },
  {
   "cell_type": "code",
   "execution_count": 45,
   "id": "99f1c3c6-77e0-4bd3-b8a2-40af801f6743",
   "metadata": {},
   "outputs": [
    {
     "data": {
      "text/plain": [
       "array([200, 200, 200, 200, 200, 200, 200, 200, 200, 200, 200])"
      ]
     },
     "execution_count": 45,
     "metadata": {},
     "output_type": "execute_result"
    }
   ],
   "source": [
    "arr_copy[:] = 200\n",
    "arr_copy"
   ]
  },
  {
   "cell_type": "code",
   "execution_count": 46,
   "id": "76dfba54-3678-4117-a913-b5a43158b366",
   "metadata": {},
   "outputs": [
    {
     "data": {
      "text/plain": [
       "array([99, 99, 99, 99, 99, 99,  6,  7,  8,  9, 10])"
      ]
     },
     "execution_count": 46,
     "metadata": {},
     "output_type": "execute_result"
    }
   ],
   "source": [
    "arr"
   ]
  },
  {
   "cell_type": "markdown",
   "id": "f1fce942-ffd2-4db0-adbb-6fd7ba44c9c2",
   "metadata": {},
   "source": [
    "general format is mat[row][col] mat[row,col]"
   ]
  },
  {
   "cell_type": "code",
   "execution_count": 52,
   "id": "1227c775-eab0-4702-8626-fc7a13e57f56",
   "metadata": {},
   "outputs": [
    {
     "data": {
      "text/plain": [
       "array([[ 5, 10, 15],\n",
       "       [20, 25, 30],\n",
       "       [35, 40, 45]])"
      ]
     },
     "execution_count": 52,
     "metadata": {},
     "output_type": "execute_result"
    }
   ],
   "source": [
    "mat = np.array([[5,10,15],[20,25,30],[35,40,45]])\n",
    "mat"
   ]
  },
  {
   "cell_type": "markdown",
   "id": "d239764b-74ba-475b-af87-38c01b37612e",
   "metadata": {},
   "source": [
    "grab first array"
   ]
  },
  {
   "cell_type": "code",
   "execution_count": 53,
   "id": "a5b60e03-5032-4870-9463-70a8fe5c1a52",
   "metadata": {},
   "outputs": [
    {
     "data": {
      "text/plain": [
       "array([ 5, 10, 15])"
      ]
     },
     "execution_count": 53,
     "metadata": {},
     "output_type": "execute_result"
    }
   ],
   "source": [
    "mat[0]"
   ]
  },
  {
   "cell_type": "markdown",
   "id": "6b9767ba-7de1-452b-8308-661bab847244",
   "metadata": {},
   "source": [
    "grab last array"
   ]
  },
  {
   "cell_type": "code",
   "execution_count": 51,
   "id": "b9f94d66-dcea-478a-b176-8dc70414bd53",
   "metadata": {},
   "outputs": [
    {
     "data": {
      "text/plain": [
       "array([35, 40, 45])"
      ]
     },
     "execution_count": 51,
     "metadata": {},
     "output_type": "execute_result"
    }
   ],
   "source": [
    "mat[2]"
   ]
  },
  {
   "cell_type": "markdown",
   "id": "ce38c64f-a15d-495a-bee3-ed533b33c77a",
   "metadata": {},
   "source": [
    "grab individual value - there are two ways"
   ]
  },
  {
   "cell_type": "code",
   "execution_count": 54,
   "id": "8065330c-8de3-463a-92a9-8353cd179699",
   "metadata": {},
   "outputs": [
    {
     "data": {
      "text/plain": [
       "25"
      ]
     },
     "execution_count": 54,
     "metadata": {},
     "output_type": "execute_result"
    }
   ],
   "source": [
    "mat[1][1]"
   ]
  },
  {
   "cell_type": "code",
   "execution_count": 55,
   "id": "48e9e1f1-1eca-483a-9000-8c92a003ee41",
   "metadata": {},
   "outputs": [
    {
     "data": {
      "text/plain": [
       "25"
      ]
     },
     "execution_count": 55,
     "metadata": {},
     "output_type": "execute_result"
    }
   ],
   "source": [
    "mat[1,1]"
   ]
  },
  {
   "cell_type": "code",
   "execution_count": 56,
   "id": "e9adbd01-c03c-4e58-8907-7c56f4b71139",
   "metadata": {},
   "outputs": [
    {
     "data": {
      "text/plain": [
       "array([[10, 15],\n",
       "       [25, 30]])"
      ]
     },
     "execution_count": 56,
     "metadata": {},
     "output_type": "execute_result"
    }
   ],
   "source": [
    "mat[:2,1:]"
   ]
  },
  {
   "cell_type": "markdown",
   "id": "9f5fc337-78d3-40c9-af07-90d25236a039",
   "metadata": {},
   "source": [
    "## Conditional Selection"
   ]
  },
  {
   "cell_type": "markdown",
   "id": "9e163a99-a574-41a0-b22b-d9cc707df9e4",
   "metadata": {},
   "source": [
    "conditional selection is a very important topic to be familiar with"
   ]
  },
  {
   "cell_type": "code",
   "execution_count": 57,
   "id": "2790601e-ad8e-47f8-8bcb-d24e26097251",
   "metadata": {},
   "outputs": [
    {
     "data": {
      "text/plain": [
       "array([ 1,  2,  3,  4,  5,  6,  7,  8,  9, 10])"
      ]
     },
     "execution_count": 57,
     "metadata": {},
     "output_type": "execute_result"
    }
   ],
   "source": [
    "arr = np.arange(1,11)\n",
    "arr"
   ]
  },
  {
   "cell_type": "markdown",
   "id": "2f26c6f4-12e3-48df-8785-58214057cd71",
   "metadata": {},
   "source": [
    "I want to grab elements off this array based on some kind of comparison operator"
   ]
  },
  {
   "cell_type": "markdown",
   "id": "01a0c64c-38a0-4267-b2d5-1354104e0351",
   "metadata": {},
   "source": [
    "here, i am comparing my entire array to the number four, and i will\n",
    "receive an array of booleans."
   ]
  },
  {
   "cell_type": "code",
   "execution_count": 58,
   "id": "c7328491-dc51-4576-8607-e63eafa6378b",
   "metadata": {},
   "outputs": [
    {
     "data": {
      "text/plain": [
       "array([False, False, False, False,  True,  True,  True,  True,  True,\n",
       "        True])"
      ]
     },
     "execution_count": 58,
     "metadata": {},
     "output_type": "execute_result"
    }
   ],
   "source": [
    "arr > 4"
   ]
  },
  {
   "cell_type": "markdown",
   "id": "48cff419-59b2-4dc8-bb56-bc1dfe9c206c",
   "metadata": {},
   "source": [
    "I can assign the result to a new array, then pass that new array into the old\n",
    "array, and what is returned is an array with values only where the results \n",
    "are true."
   ]
  },
  {
   "cell_type": "markdown",
   "id": "41f6a026-9c06-4069-a24c-0ca952d1a44e",
   "metadata": {},
   "source": [
    "you can also pass the operation of that array into itself, as seen with\n",
    "```arr[arr>4]```"
   ]
  },
  {
   "cell_type": "markdown",
   "id": "3d63b13e-223f-4e9d-b302-c274656347d1",
   "metadata": {},
   "source": [
    "doing such things are very common with numpy and pandas"
   ]
  },
  {
   "cell_type": "code",
   "execution_count": 60,
   "id": "41e74df3-a914-4589-b939-d23324d52421",
   "metadata": {},
   "outputs": [],
   "source": [
    "bool_arr = arr > 4"
   ]
  },
  {
   "cell_type": "code",
   "execution_count": 61,
   "id": "3a24194f-418b-4b01-8eed-63412eea6ce8",
   "metadata": {},
   "outputs": [
    {
     "data": {
      "text/plain": [
       "array([ 5,  6,  7,  8,  9, 10])"
      ]
     },
     "execution_count": 61,
     "metadata": {},
     "output_type": "execute_result"
    }
   ],
   "source": [
    "arr[bool_arr]"
   ]
  },
  {
   "cell_type": "code",
   "execution_count": 62,
   "id": "73572b2e-174a-4970-b8df-2cd07d113c22",
   "metadata": {},
   "outputs": [
    {
     "data": {
      "text/plain": [
       "array([ 5,  6,  7,  8,  9, 10])"
      ]
     },
     "execution_count": 62,
     "metadata": {},
     "output_type": "execute_result"
    }
   ],
   "source": [
    "arr[arr>4]"
   ]
  },
  {
   "cell_type": "code",
   "execution_count": null,
   "id": "a9783aaa-01af-4edc-a374-da3b9c8f62a5",
   "metadata": {},
   "outputs": [],
   "source": []
  }
 ],
 "metadata": {
  "kernelspec": {
   "display_name": "Python 3 (ipykernel)",
   "language": "python",
   "name": "python3"
  },
  "language_info": {
   "codemirror_mode": {
    "name": "ipython",
    "version": 3
   },
   "file_extension": ".py",
   "mimetype": "text/x-python",
   "name": "python",
   "nbconvert_exporter": "python",
   "pygments_lexer": "ipython3",
   "version": "3.11.5"
  }
 },
 "nbformat": 4,
 "nbformat_minor": 5
}
