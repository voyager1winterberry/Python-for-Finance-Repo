{
 "cells": [
  {
   "cell_type": "markdown",
   "id": "7b5c4eb2-d0ee-4665-9c7b-5f7c004030c3",
   "metadata": {},
   "source": [
    "# Series"
   ]
  },
  {
   "cell_type": "code",
   "execution_count": 22,
   "id": "0692f28c-db5e-420e-8f85-129bd54d906d",
   "metadata": {},
   "outputs": [],
   "source": [
    "import numpy as np\n",
    "import pandas as pd"
   ]
  },
  {
   "cell_type": "markdown",
   "id": "48fcba47-ace6-41c1-83f9-1a02463cc921",
   "metadata": {},
   "source": [
    "to create a series, you can convert many object types to a series.\n",
    "here, we will create different object types."
   ]
  },
  {
   "cell_type": "code",
   "execution_count": 23,
   "id": "b118ac30-45d9-46a2-abd2-65430beae81c",
   "metadata": {},
   "outputs": [],
   "source": [
    "labels = ['a','b','c']\n",
    "my_list = [10,20,30]\n",
    "arr = np.array([10,20,30])\n",
    "d = {'a':10,'b':20,'c':100}"
   ]
  },
  {
   "cell_type": "markdown",
   "id": "add8f9a7-6460-401c-93b7-fd71922951e3",
   "metadata": {},
   "source": [
    "here, we will convert the objects of different object types to series. \n",
    "a series differentiates from a normal numpy array in how the series has \n",
    "index labels that go along with them."
   ]
  },
  {
   "cell_type": "code",
   "execution_count": 24,
   "id": "261ed810-9566-42b9-931a-40a5db4d406c",
   "metadata": {},
   "outputs": [
    {
     "data": {
      "text/plain": [
       "0    a\n",
       "1    b\n",
       "2    c\n",
       "dtype: object"
      ]
     },
     "execution_count": 24,
     "metadata": {},
     "output_type": "execute_result"
    }
   ],
   "source": [
    "pd.Series(labels)"
   ]
  },
  {
   "cell_type": "code",
   "execution_count": 25,
   "id": "48112398-55b5-4a01-bb58-af6ebf82c3ca",
   "metadata": {},
   "outputs": [
    {
     "data": {
      "text/plain": [
       "0    10\n",
       "1    20\n",
       "2    30\n",
       "dtype: int64"
      ]
     },
     "execution_count": 25,
     "metadata": {},
     "output_type": "execute_result"
    }
   ],
   "source": [
    "pd.Series(my_list)"
   ]
  },
  {
   "cell_type": "code",
   "execution_count": 26,
   "id": "56afb66c-044b-4c1b-ae29-7ef723ef73d1",
   "metadata": {},
   "outputs": [
    {
     "data": {
      "text/plain": [
       "0    10\n",
       "1    20\n",
       "2    30\n",
       "dtype: int32"
      ]
     },
     "execution_count": 26,
     "metadata": {},
     "output_type": "execute_result"
    }
   ],
   "source": [
    "pd.Series(arr)"
   ]
  },
  {
   "cell_type": "code",
   "execution_count": 27,
   "id": "2abbe4a7-b69d-42f7-8c56-892470c5aa8a",
   "metadata": {},
   "outputs": [
    {
     "data": {
      "text/plain": [
       "a     10\n",
       "b     20\n",
       "c    100\n",
       "dtype: int64"
      ]
     },
     "execution_count": 27,
     "metadata": {},
     "output_type": "execute_result"
    }
   ],
   "source": [
    "pd.Series(d)"
   ]
  },
  {
   "cell_type": "markdown",
   "id": "d03c9e79-a09b-4da4-88f8-4e5a59bedc0e",
   "metadata": {},
   "source": [
    "when creating a series, the index can also be set to be labels. here, we set \n",
    "the index equal to the labels list"
   ]
  },
  {
   "cell_type": "code",
   "execution_count": 28,
   "id": "10f38a9e-b6c5-44b5-98a0-bc758704cdbc",
   "metadata": {},
   "outputs": [
    {
     "data": {
      "text/plain": [
       "a    10\n",
       "b    20\n",
       "c    30\n",
       "dtype: int64"
      ]
     },
     "execution_count": 28,
     "metadata": {},
     "output_type": "execute_result"
    }
   ],
   "source": [
    "pd.Series(my_list, index=labels)"
   ]
  },
  {
   "cell_type": "markdown",
   "id": "5dde2e24-b2ec-4f18-b121-d05b82dfdcac",
   "metadata": {},
   "source": [
    "you can pass in the list without being specific that index=labels"
   ]
  },
  {
   "cell_type": "code",
   "execution_count": 29,
   "id": "38de61ef-6e01-4244-a27e-b93174d5edf4",
   "metadata": {},
   "outputs": [
    {
     "data": {
      "text/plain": [
       "a    10\n",
       "b    20\n",
       "c    30\n",
       "dtype: int32"
      ]
     },
     "execution_count": 29,
     "metadata": {},
     "output_type": "execute_result"
    }
   ],
   "source": [
    "pd.Series(arr,labels)"
   ]
  },
  {
   "cell_type": "markdown",
   "id": "497658b5-54ee-4368-ac89-a5a11bad39e7",
   "metadata": {},
   "source": [
    "you can also pass in functions into the series. it will not cause an error.\n",
    "pandas series are quite flexible."
   ]
  },
  {
   "cell_type": "code",
   "execution_count": 30,
   "id": "ad9ef25d-f2b8-41f0-bb3a-b8da0eae5572",
   "metadata": {},
   "outputs": [
    {
     "data": {
      "text/plain": [
       "0      <built-in function sum>\n",
       "1    <built-in function print>\n",
       "2      <built-in function len>\n",
       "dtype: object"
      ]
     },
     "execution_count": 30,
     "metadata": {},
     "output_type": "execute_result"
    }
   ],
   "source": [
    "pd.Series([sum,print,len])"
   ]
  },
  {
   "cell_type": "markdown",
   "id": "d5e3a167-d2a1-4de0-b06a-ee06c88ad206",
   "metadata": {},
   "source": [
    "this is how to use an index with a pandas series. you do this through an indexed call."
   ]
  },
  {
   "cell_type": "code",
   "execution_count": 32,
   "id": "0dd94f8b-087e-41d0-b5d4-d3bb3aa509ed",
   "metadata": {},
   "outputs": [
    {
     "data": {
      "text/plain": [
       "USA        1\n",
       "CHINA      2\n",
       "FRANCE     3\n",
       "GERMANY    4\n",
       "dtype: int64"
      ]
     },
     "execution_count": 32,
     "metadata": {},
     "output_type": "execute_result"
    }
   ],
   "source": [
    "ser1 = pd.Series([1, 2, 3, 4], index = ['USA', 'CHINA', 'FRANCE', 'GERMANY'])\n",
    "ser1"
   ]
  },
  {
   "cell_type": "code",
   "execution_count": 34,
   "id": "737eb3a0-83ed-45b7-b4dc-c926b63cf9ca",
   "metadata": {},
   "outputs": [
    {
     "data": {
      "text/plain": [
       "USA      1\n",
       "CHINA    2\n",
       "ITALY    3\n",
       "JAPAN    4\n",
       "dtype: int64"
      ]
     },
     "execution_count": 34,
     "metadata": {},
     "output_type": "execute_result"
    }
   ],
   "source": [
    "ser2 = pd.Series([1, 2, 3, 4], index = ['USA', 'CHINA', 'ITALY', 'JAPAN'])\n",
    "ser2"
   ]
  },
  {
   "cell_type": "code",
   "execution_count": 37,
   "id": "38eb5524-7429-4403-ae99-209e4a20e023",
   "metadata": {},
   "outputs": [
    {
     "data": {
      "text/plain": [
       "1"
      ]
     },
     "execution_count": 37,
     "metadata": {},
     "output_type": "execute_result"
    }
   ],
   "source": [
    "ser1['USA']"
   ]
  },
  {
   "cell_type": "markdown",
   "id": "c583abd7-bdb0-462c-ab89-ef7f45f09428",
   "metadata": {},
   "source": [
    "this shall add up indexes where there is a match"
   ]
  },
  {
   "cell_type": "code",
   "execution_count": 36,
   "id": "8a376bd6-f546-4018-a381-f5249da22f67",
   "metadata": {},
   "outputs": [
    {
     "data": {
      "text/plain": [
       "CHINA      4.0\n",
       "FRANCE     NaN\n",
       "GERMANY    NaN\n",
       "ITALY      NaN\n",
       "JAPAN      NaN\n",
       "USA        2.0\n",
       "dtype: float64"
      ]
     },
     "execution_count": 36,
     "metadata": {},
     "output_type": "execute_result"
    }
   ],
   "source": [
    "ser1 + ser2"
   ]
  },
  {
   "cell_type": "code",
   "execution_count": null,
   "id": "27b10e79-2648-4206-b3ae-d79e9950e4a7",
   "metadata": {},
   "outputs": [],
   "source": []
  }
 ],
 "metadata": {
  "kernelspec": {
   "display_name": "Python 3 (ipykernel)",
   "language": "python",
   "name": "python3"
  },
  "language_info": {
   "codemirror_mode": {
    "name": "ipython",
    "version": 3
   },
   "file_extension": ".py",
   "mimetype": "text/x-python",
   "name": "python",
   "nbconvert_exporter": "python",
   "pygments_lexer": "ipython3",
   "version": "3.11.5"
  }
 },
 "nbformat": 4,
 "nbformat_minor": 5
}
